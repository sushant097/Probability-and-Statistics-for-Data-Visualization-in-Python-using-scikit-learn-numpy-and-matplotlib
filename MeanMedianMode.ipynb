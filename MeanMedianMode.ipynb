{
 "cells": [
  {
   "cell_type": "markdown",
   "metadata": {},
   "source": [
    "# Mean, Median, Mode, and introducing NumPy"
   ]
  },
  {
   "cell_type": "markdown",
   "metadata": {},
   "source": [
    "## Mean vs. Median"
   ]
  },
  {
   "cell_type": "markdown",
   "metadata": {},
   "source": [
    "Let's create some fake income data, centered around 27,000 with a normal distribution and standard deviation of 15,000, with 10,000 data points. (We'll discuss those terms more later, if you're not familiar with them.)\n",
    "\n",
    "Then, compute the mean (average) - it should be close to 27,000:"
   ]
  },
  {
   "cell_type": "code",
   "execution_count": 2,
   "metadata": {},
   "outputs": [
    {
     "data": {
      "text/plain": [
       "26980.573556426672"
      ]
     },
     "execution_count": 2,
     "metadata": {},
     "output_type": "execute_result"
    }
   ],
   "source": [
    "import numpy as np\n",
    "\n",
    "incomes = np.random.normal(27000, 15000, 10000)# arguments: (normalDistribution, StandardDeviation, data points)\n",
    "#Then it generates 10,000 random data points which satisfy the given values\n",
    "np.median(incomes)"
   ]
  },
  {
   "cell_type": "markdown",
   "metadata": {},
   "source": [
    "We can segment the income data into 50 buckets, and plot it as a histogram:"
   ]
  },
  {
   "cell_type": "code",
   "execution_count": 5,
   "metadata": {},
   "outputs": [
    {
     "data": {
      "image/png": "[encoded data removed]",
      "text/plain": [
       "<Figure size 432x288 with 1 Axes>"
      ]
     },
     "metadata": {},
     "output_type": "display_data"
    }
   ],
   "source": [
    "%matplotlib inline\n",
    "import matplotlib.pyplot as plt\n",
    "plt.hist(incomes, 50)\n",
    "plt.show()"
   ]
  },
  {
   "cell_type": "code",
   "execution_count": 14,
   "metadata": {},
   "outputs": [
    {
     "data": {
      "image/png": "[encoded data removed]",
      "text/plain": [
       "<Figure size 432x288 with 1 Axes>"
      ]
     },
     "metadata": {},
     "output_type": "display_data"
    }
   ],
   "source": [
    "import matplotlib.pyplot as plt\n",
    "plt.hist(incomes,20)\n",
    "plt.show()\n"
   ]
  },
  {
   "cell_type": "markdown",
   "metadata": {},
   "source": [
    "Now compute the median - since we have a nice, even distribution it too should be close to 27,000:"
   ]
  },
  {
   "cell_type": "code",
   "execution_count": 3,
   "metadata": {},
   "outputs": [
    {
     "data": {
      "text/plain": [
       "27195.153719614136"
      ]
     },
     "execution_count": 3,
     "metadata": {},
     "output_type": "execute_result"
    }
   ],
   "source": [
    "np.median(incomes)"
   ]
  },
  {
   "cell_type": "markdown",
   "metadata": {},
   "source": [
    "Now we'll add Donald Trump into the mix. Darn income inequality!"
   ]
  },
  {
   "cell_type": "code",
   "execution_count": 31,
   "metadata": {},
   "outputs": [],
   "source": [
    "incomes = np.append(incomes, [1000000000])"
   ]
  },
  {
   "cell_type": "markdown",
   "metadata": {},
   "source": [
    "The median won't change much, but the mean does:"
   ]
  },
  {
   "cell_type": "code",
   "execution_count": 5,
   "metadata": {},
   "outputs": [
    {
     "data": {
      "text/plain": [
       "27195.884278535214"
      ]
     },
     "execution_count": 5,
     "metadata": {},
     "output_type": "execute_result"
    }
   ],
   "source": [
    "np.median(incomes)"
   ]
  },
  {
   "cell_type": "code",
   "execution_count": 6,
   "metadata": {},
   "outputs": [
    {
     "data": {
      "text/plain": [
       "126993.93098257863"
      ]
     },
     "execution_count": 6,
     "metadata": {},
     "output_type": "execute_result"
    }
   ],
   "source": [
    "np.mean(incomes)"
   ]
  },
  {
   "cell_type": "markdown",
   "metadata": {},
   "source": [
    "## Mode"
   ]
  },
  {
   "cell_type": "markdown",
   "metadata": {},
   "source": [
    "Next, let's generate some fake age data for 500 people:"
   ]
  },
  {
   "cell_type": "code",
   "execution_count": 29,
   "metadata": {},
   "outputs": [
    {
     "data": {
      "text/plain": [
       "array([70, 60, 62, 29, 53, 81, 28, 25, 76, 34, 88, 16, 67, 68, 58, 37, 22,\n",
       "       89, 54, 87, 31, 38, 45, 28, 78, 50, 16, 80, 70, 32, 52, 70, 27, 57,\n",
       "       35, 72, 41, 30, 55, 40, 61, 73, 23, 31, 75, 58, 83, 43, 31, 72, 17,\n",
       "       69, 58, 52, 57, 36, 56, 31, 66, 16, 38, 53, 57, 56, 19, 42, 63, 75,\n",
       "       51, 66, 87, 19, 77, 32, 42, 53, 56, 53, 40, 88, 82, 43, 58, 73, 32,\n",
       "       47, 30, 60, 17, 62, 55, 25, 30, 63, 18, 20, 67, 80, 71, 21, 56, 69,\n",
       "       41, 84, 30, 50, 54, 37, 34, 25, 69, 35, 23, 74, 25, 64, 36, 85, 31,\n",
       "       29, 69, 82, 56, 64, 47, 27, 46, 40, 25, 35, 89, 34, 23, 38, 75, 80,\n",
       "       79, 76, 30, 19, 53, 29, 49, 31, 55, 71, 34, 73, 32, 26, 57, 73, 86,\n",
       "       69, 79, 52, 54, 46, 46, 65, 59, 38, 74, 20, 19, 75, 26, 40, 88, 73,\n",
       "       61, 88, 61, 87, 19, 34, 38, 25, 75, 37, 59, 39, 67, 28, 28, 42, 49,\n",
       "       50, 42, 50, 78, 49, 80, 38, 36, 60, 70, 73, 41, 86, 65, 17, 64, 73,\n",
       "       34, 32, 74, 16, 56, 33, 58, 53, 18, 27, 74, 60, 78, 51, 69, 49, 60,\n",
       "       60, 68, 30, 66, 20, 67, 80, 50, 76, 24, 44, 83, 84, 17, 34, 20, 64,\n",
       "       44, 67, 27, 46, 19, 46, 36, 40, 75, 26, 85, 48, 89, 57, 84, 44, 73,\n",
       "       56, 63, 65, 17, 44, 48, 62, 38, 80, 25, 62, 59, 68, 18, 18, 27, 63,\n",
       "       65, 65, 19, 44, 35, 18, 83, 57, 60, 86, 27, 21, 73, 44, 22, 61, 63,\n",
       "       52, 62, 85, 33, 53, 44, 47, 85, 80, 83, 40, 17, 77, 33, 63, 54, 51,\n",
       "       24, 67, 23, 37, 24, 73, 89, 60, 58, 50, 78, 27, 16, 25, 75, 72, 62,\n",
       "       65, 35, 29, 31, 52, 17, 71, 77, 25, 26, 62, 35, 61, 39, 66, 86, 59,\n",
       "       81, 52, 27, 77, 86, 81, 30, 16, 21, 30, 46, 56, 18, 48, 74, 74, 28,\n",
       "       80, 50, 78, 16, 57, 19, 25, 59, 42, 68, 36, 69, 44, 62, 57, 72, 71,\n",
       "       62, 40, 63, 72, 38, 25, 87, 86, 55, 73, 73, 57, 16, 76, 40, 61, 79,\n",
       "       55, 81, 31, 65, 85, 33, 46, 45, 70, 81, 77, 34, 83, 86, 61, 59, 78,\n",
       "       28, 23, 42, 86, 21, 19, 28, 60, 41, 53, 24, 85, 42, 89, 27, 63, 32,\n",
       "       75, 72, 77, 88, 32, 18, 27, 49, 87, 33, 38, 38, 68, 52, 44, 52, 20,\n",
       "       28, 30, 31, 72, 55, 70, 27, 78, 71, 30, 81, 44, 32, 88, 49, 63, 77,\n",
       "       51, 72, 73, 50, 61, 54, 23, 18, 37, 27, 32, 51, 88, 56, 30, 28, 29,\n",
       "       53, 21, 84, 58, 51, 63, 62, 78, 63, 26, 47, 43, 19, 78, 37, 19, 20,\n",
       "       49, 32, 88, 75, 74, 38, 21])"
      ]
     },
     "execution_count": 29,
     "metadata": {},
     "output_type": "execute_result"
    }
   ],
   "source": [
    "ages = np.random.randint(16, high=90, size=500)\n",
    "ages"
   ]
  },
  {
   "cell_type": "code",
   "execution_count": 30,
   "metadata": {},
   "outputs": [
    {
     "data": {
      "text/plain": [
       "ModeResult(mode=array([73]), count=array([13]))"
      ]
     },
     "execution_count": 30,
     "metadata": {},
     "output_type": "execute_result"
    }
   ],
   "source": [
    "from scipy import stats\n",
    "stats.mode(ages) # as numpy has no attibute or function mode. scipy is another scientific library\n"
   ]
  },
  {
   "cell_type": "code",
   "execution_count": null,
   "metadata": {},
   "outputs": [],
   "source": []
  }
 ],
 "metadata": {
  "kernelspec": {
   "display_name": "Python 3",
   "language": "python",
   "name": "python3"
  },
  "language_info": {
   "codemirror_mode": {
    "name": "ipython",
    "version": 3
   },
   "file_extension": ".py",
   "mimetype": "text/x-python",
   "name": "python",
   "nbconvert_exporter": "python",
   "pygments_lexer": "ipython3",
   "version": "3.6.5"
  }
 },
 "nbformat": 4,
 "nbformat_minor": 1
}

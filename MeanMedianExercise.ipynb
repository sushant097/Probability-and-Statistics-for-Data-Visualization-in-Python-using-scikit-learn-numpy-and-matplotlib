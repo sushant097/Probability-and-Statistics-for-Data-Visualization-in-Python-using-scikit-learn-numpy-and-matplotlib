{
 "cells": [
  {
   "cell_type": "markdown",
   "metadata": {},
   "source": [
    "# Exercise: Mean & Median Customer Spend"
   ]
  },
  {
   "cell_type": "markdown",
   "metadata": {},
   "source": [
    "Here's some code that will generate some random e-commerce data; just an array of total amount spent per transaction. Select the code block, and hit \"play\" to execute it:"
   ]
  },
  {
   "cell_type": "code",
   "execution_count": 49,
   "metadata": {},
   "outputs": [
    {
     "data": {
      "image/png": "[encoded data removed]",
      "text/plain": [
       "<Figure size 432x288 with 1 Axes>"
      ]
     },
     "metadata": {},
     "output_type": "display_data"
    },
    {
     "data": {
      "text/plain": [
       "array([ 93.14034897, 138.20550383, 100.27306295, ...,  90.94524744,\n",
       "        99.52028012,  70.60409645])"
      ]
     },
     "execution_count": 49,
     "metadata": {},
     "output_type": "execute_result"
    }
   ],
   "source": [
    "%matplotlib inline\n",
    "import numpy as np\n",
    "import matplotlib.pyplot as plt\n",
    "\n",
    "incomes = np.random.normal(100.0, 20.0, 10000) # (normalDistribution, StandardDeviation, Total DataPoints)\n",
    "# normalDistribution= 100.0, StandardDeviation= 20.0, TotalDataPoints=10000\n",
    "\n",
    "plt.hist(incomes, 50)\n",
    "plt.show()\n",
    "incomes"
   ]
  },
  {
   "cell_type": "markdown",
   "metadata": {},
   "source": [
    "Now, find the mean and median of this data. In the code block below, write your code, and see if your result makes sense:"
   ]
  },
  {
   "cell_type": "code",
   "execution_count": null,
   "metadata": {},
   "outputs": [],
   "source": []
  },
  {
   "cell_type": "markdown",
   "metadata": {},
   "source": [
    "This is pretty much the world's easiest assignment, but we're just trying to get your hands on iPython and writing code with numpy to get you comfortable with it.\n",
    "\n",
    "Try playing with the code above to generate different distributions of data, or add outliers to it to see their effect."
   ]
  },
  {
   "cell_type": "code",
   "execution_count": 51,
   "metadata": {},
   "outputs": [
    {
     "name": "stdout",
     "output_type": "stream",
     "text": [
      "mean is: 99.88215229324764\n",
      "median is: 99.90822649028087\n"
     ]
    }
   ],
   "source": [
    "# mean of the customer spends on one transaction\n",
    "print(\"mean is: {}\".format(np.mean(incomes))) \n",
    "\n",
    "print(\"median is: {}\".format(np.median(incomes))) \n",
    "\n",
    "\n",
    "#np.append(incomes, [200.782])"
   ]
  },
  {
   "cell_type": "code",
   "execution_count": 52,
   "metadata": {},
   "outputs": [],
   "source": [
    "# Lets add another customer high spend data\n",
    "incomes = np.append(incomes, 200.782)"
   ]
  },
  {
   "cell_type": "code",
   "execution_count": 53,
   "metadata": {},
   "outputs": [
    {
     "name": "stdout",
     "output_type": "stream",
     "text": [
      "mean is: 99.89224126912072\n",
      "median is: 99.91122651124381\n"
     ]
    }
   ],
   "source": [
    "# Again find mean and mode\n",
    "\n",
    "print(\"mean is: {}\".format(np.mean(incomes))) \n",
    "\n",
    "print(\"median is: {}\".format(np.median(incomes))) \n",
    "\n",
    "# it seems mean is slightly change but not median"
   ]
  },
  {
   "cell_type": "code",
   "execution_count": 72,
   "metadata": {},
   "outputs": [
    {
     "name": "stdout",
     "output_type": "stream",
     "text": [
      "[24 41 39 32 26 78 61 80 48 52 54 79 81 40 50 43 44 67 24 73 38 35 84 17\n",
      " 30 63 18 74 37 59 77 35 78 21 75 22 77 62 25 44 32 18 21 21 42 35 18 53\n",
      " 47 16 44 25 61 45 26 39 24 43 53 19 72 49 48 53 57 80 75 70 31 49 68 35\n",
      " 80 36 54 68 54 55 69 21 44 63 75 38 78 63 17 23 36 29 76 26 44 19 55 30\n",
      " 57 26 24 61 65 21 48 61 69 79 43 63 71 47 29 29 33 32 65 42 22 80 39 47\n",
      " 17 35 30 71 59 62 62 83 37 77 59 34 84 80 62 43 34 67 43 22 69 69 69 62\n",
      " 52 61 76 27 44 71 57 79 60 74 21 70 60 70 25 83 60 51 24 76 36 58 16 35\n",
      " 78 78 35 17 46 72 43 30 47 16 77 51 19 69 58 48 28 53 77 68 42 58 73 27\n",
      " 31 32 80 41 31 47 76 38 42 79 75 58 70 44 47 39 50 67 51 52 84 25 30 49\n",
      " 33 51 26 46 64 43 41 36 49 64 41 77 25 22 29 25 83 84 32 27 23 50 72 70\n",
      " 56 59 83 63 29 54 20 62 78 53 63 64 41 58 84 39 62 74 60 25 65 44 72 16\n",
      " 23 48 25 83 62 61 22 81 40 72 73 20 53 50 47 58 75 40 24 37 21 50 32 16\n",
      " 44 81 59 46 43 29 49 74 79 76 25 76 73 36 69 58 21 38 45 20 38 21 69 40\n",
      " 63 64 84 38 23 76 68 39 23 83 81 50 79 79 44 16 30 41 43 19 19 68 74 61\n",
      " 82 69 23 28 22 43 49 50 43 22 42 58 49 30 76 46 32 76 38 31 82 45 36 54\n",
      " 71 50 44 30 49 69 67 61 84 49 83 44 65 52 60 30 65 49 62 65 68 67 51 32\n",
      " 27 79 49 36 45 23 65 61 44 73 51 78 72 58 80 31 21 33 21 35 35 35 51 42\n",
      " 73 84 83 37 35 39 80 63 39 48 52 20 16 50 66 50 39 61 29 17 31 67 33 39\n",
      " 53 52 32 48 44 69 28 52 28 41 47 78 64 80 55 40 82 61 22 65 66 44 76 22\n",
      " 35 46 62 36 50 35 72 46 16 79 84 47 77 80 38 54 47 58 54 53 72 18 60 67\n",
      " 42 39 50 33 64 36 76 64 75 59 58 43 16 47 60 78 84 73 33 29]\n"
     ]
    },
    {
     "data": {
      "text/plain": [
       "ModeResult(mode=array([44]), count=array([15]))"
      ]
     },
     "execution_count": 72,
     "metadata": {},
     "output_type": "execute_result"
    }
   ],
   "source": [
    "# find Mode of the distribution\n",
    "ages = np.random.randint(16,high=85, size=500)\n",
    "print(ages)\n",
    "from scipy import stats\n",
    "stats.mode(ages)"
   ]
  }
 ],
 "metadata": {
  "kernelspec": {
   "display_name": "Python 3",
   "language": "python",
   "name": "python3"
  },
  "language_info": {
   "codemirror_mode": {
    "name": "ipython",
    "version": 3
   },
   "file_extension": ".py",
   "mimetype": "text/x-python",
   "name": "python",
   "nbconvert_exporter": "python",
   "pygments_lexer": "ipython3",
   "version": "3.6.5"
  }
 },
 "nbformat": 4,
 "nbformat_minor": 1
}
